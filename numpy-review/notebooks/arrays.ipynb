{
 "cells": [
  {
   "cell_type": "markdown",
   "id": "35a66643-4105-42a9-a477-f993b7c5c6dd",
   "metadata": {},
   "source": [
    "# 1. Setup Verification"
   ]
  },
  {
   "cell_type": "code",
   "execution_count": 1,
   "id": "2a87f1c0-084a-4800-a657-a317801e5b85",
   "metadata": {},
   "outputs": [
    {
     "name": "stdout",
     "output_type": "stream",
     "text": [
      "Requirement already satisfied: numpy in c:\\users\\asus\\desktop\\review\\.venv\\lib\\site-packages (2.2.4)\n",
      "Note: you may need to restart the kernel to use updated packages.\n"
     ]
    },
    {
     "name": "stderr",
     "output_type": "stream",
     "text": [
      "\n",
      "[notice] A new release of pip is available: 25.0.1 -> 25.1.1\n",
      "[notice] To update, run: python.exe -m pip install --upgrade pip\n"
     ]
    }
   ],
   "source": [
    "pip install numpy"
   ]
  },
  {
   "cell_type": "code",
   "execution_count": 4,
   "id": "296bb9ad-4571-4d7e-9c44-3b91c645bcfc",
   "metadata": {},
   "outputs": [
    {
     "name": "stdout",
     "output_type": "stream",
     "text": [
      "NumPy version: 2.2.4\n",
      "Array example:\n",
      " [1 2 3]\n"
     ]
    }
   ],
   "source": [
    "import numpy as np\n",
    "print(\"NumPy version:\", np.__version__)\n",
    "print(\"Array example:\\n\", np.array([1, 2, 3]))"
   ]
  },
  {
   "cell_type": "markdown",
   "id": "473901fc-8ca1-4a85-bda5-046dd852981d",
   "metadata": {},
   "source": [
    "# 2. Core Concepts Review"
   ]
  },
  {
   "cell_type": "markdown",
   "id": "48cc2263-6d63-42b5-8382-fc77d0814d5b",
   "metadata": {
    "jp-MarkdownHeadingCollapsed": true
   },
   "source": [
    "## A. Array Creation"
   ]
  },
  {
   "cell_type": "code",
   "execution_count": 5,
   "id": "2a34b3a7-976f-441b-b0f1-fb001fa48d02",
   "metadata": {},
   "outputs": [],
   "source": [
    "# Basic arrays\n",
    "a = np.array([1, 2, 3])                   # 1D array\n",
    "b = np.array([[1, 2], [3, 4]])            # 2D array  \n",
    "\n",
    "# Special arrays\n",
    "zeros = np.zeros((2, 3))                  # 2x3 zeros matrix  \n",
    "ones = np.ones((3,))                      # 1D vector of 1's\n",
    "range_arr = np.arange(0, 10, 2)           # Like range() but returns array"
   ]
  },
  {
   "cell_type": "code",
   "execution_count": 6,
   "id": "ad9a03ff-6302-41b6-9b95-0db2d25b43c7",
   "metadata": {},
   "outputs": [
    {
     "name": "stdout",
     "output_type": "stream",
     "text": [
      "a = [1 2 3]\n",
      "\n",
      "b = [[1 2]\n",
      " [3 4]]\n",
      "\n",
      "zeros = [[0. 0. 0.]\n",
      " [0. 0. 0.]]\n",
      "\n",
      "ones = [1. 1. 1.]\n",
      "\n",
      "range_arr = [0 2 4 6 8]\n",
      "\n"
     ]
    }
   ],
   "source": [
    "print(f\"a = {a}\\n\")\n",
    "print(f\"b = {b}\\n\")\n",
    "\n",
    "print(f\"zeros = {zeros}\\n\")\n",
    "print(f\"ones = {ones}\\n\")\n",
    "print(f\"range_arr = {range_arr}\\n\")\n"
   ]
  },
  {
   "cell_type": "markdown",
   "id": "3b90f5b9-37c2-4923-a957-c5690c108030",
   "metadata": {},
   "source": [
    "## B. Array Operations"
   ]
  },
  {
   "cell_type": "code",
   "execution_count": 7,
   "id": "b136995c-22d6-4b4a-99b3-af37a7279cd1",
   "metadata": {},
   "outputs": [
    {
     "name": "stdout",
     "output_type": "stream",
     "text": [
      "Element-wise sum: [5 7 9]\n",
      "Dot product: 32\n",
      "Broadcasted multiply: [2 4 6]\n"
     ]
    }
   ],
   "source": [
    "x = np.array([1, 2, 3])\n",
    "y = np.array([4, 5, 6])\n",
    "\n",
    "print(\"Element-wise sum:\", x + y)          # [5 7 9]\n",
    "print(\"Dot product:\", np.dot(x, y))       # 32\n",
    "print(\"Broadcasted multiply:\", x * 2)     # [2 4 6]"
   ]
  },
  {
   "cell_type": "markdown",
   "id": "ed7abdce-8982-4c99-aea1-6a1b5bdd54b0",
   "metadata": {},
   "source": [
    "## C. Indexing & Slicing"
   ]
  },
  {
   "cell_type": "code",
   "execution_count": 8,
   "id": "87f2f1f3-cb0f-4bbe-9b3e-602409509684",
   "metadata": {},
   "outputs": [
    {
     "name": "stdout",
     "output_type": "stream",
     "text": [
      "First row: [1 2 3]\n",
      "Second column: [2 5 8]\n",
      "Submatrix:\n",
      " [[4 5]\n",
      " [7 8]]\n"
     ]
    }
   ],
   "source": [
    "matrix = np.array([[1, 2, 3], [4, 5, 6], [7, 8, 9]])\n",
    "\n",
    "print(\"First row:\", matrix[0])            # [1 2 3]\n",
    "print(\"Second column:\", matrix[:, 1])     # [2 5 8]  \n",
    "print(\"Submatrix:\\n\", matrix[1:, :2])     # [[4 5], [7 8]]"
   ]
  },
  {
   "cell_type": "markdown",
   "id": "0d504c53-da91-4fae-a7ea-6a60b44243b6",
   "metadata": {},
   "source": [
    "## D. Reshaping & Stacking"
   ]
  },
  {
   "cell_type": "code",
   "execution_count": 9,
   "id": "c1787fda-63c3-4604-b895-e0308017a237",
   "metadata": {},
   "outputs": [
    {
     "name": "stdout",
     "output_type": "stream",
     "text": [
      "Reshaped to 2x3:\n",
      " [[0 1 2]\n",
      " [3 4 5]]\n",
      "Vertical stack:\n",
      " [[1 2]\n",
      " [3 4]]\n",
      "Horizontal stack:\n",
      " [1 2 3 4]\n"
     ]
    }
   ],
   "source": [
    "arr = np.arange(6)\n",
    "print(\"Reshaped to 2x3:\\n\", arr.reshape(2, 3))\n",
    "\n",
    "# Stacking arrays\n",
    "a = np.array([1, 2])\n",
    "b = np.array([3, 4])\n",
    "print(\"Vertical stack:\\n\", np.vstack((a, b)))  # [[1 2], [3 4]]\n",
    "print(\"Horizontal stack:\\n\", np.hstack((a, b)))  # [[1 2], [3 4]]"
   ]
  },
  {
   "cell_type": "markdown",
   "id": "39264907-4809-45e1-a5b7-fbf22da4340f",
   "metadata": {},
   "source": [
    "# 3. Performance Demonstration"
   ]
  },
  {
   "cell_type": "markdown",
   "id": "f62ce955-44b9-40ea-b16f-e3e889ca522b",
   "metadata": {},
   "source": [
    "## TODO"
   ]
  },
  {
   "cell_type": "code",
   "execution_count": null,
   "id": "3c43392a-6460-45ef-b7ce-2bc7da02b566",
   "metadata": {},
   "outputs": [],
   "source": []
  }
 ],
 "metadata": {
  "kernelspec": {
   "display_name": ".venv",
   "language": "python",
   "name": "python3"
  },
  "language_info": {
   "codemirror_mode": {
    "name": "ipython",
    "version": 3
   },
   "file_extension": ".py",
   "mimetype": "text/x-python",
   "name": "python",
   "nbconvert_exporter": "python",
   "pygments_lexer": "ipython3",
   "version": "3.13.3"
  }
 },
 "nbformat": 4,
 "nbformat_minor": 5
}
